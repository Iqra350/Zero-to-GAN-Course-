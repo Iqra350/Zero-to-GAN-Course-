{
  "cells": [
    {
      "cell_type": "markdown",
      "source": [
        "####Copyright https://jovian.ai/learn/deep-learning-with-pytorch-zero-to-gans"
      ],
      "metadata": {
        "id": "idkDNbHkjJcc"
      }
    },
    {
      "cell_type": "code",
      "execution_count": null,
      "metadata": {
        "id": "GziHU7FR5C8G"
      },
      "outputs": [],
      "source": [
        "import torch\n",
        "import numpy as np"
      ]
    },
    {
      "cell_type": "code",
      "execution_count": null,
      "metadata": {
        "id": "DVwvcwCQ-oUB"
      },
      "outputs": [],
      "source": [
        "# Input (temp, rainfall, humidity)\n",
        "inputs = np.array([[73, 67, 43], \n",
        "                   [91, 88, 64], \n",
        "                   [87, 134, 58], \n",
        "                   [102, 43, 37], \n",
        "                   [69, 96, 70]], dtype='float32')"
      ]
    },
    {
      "cell_type": "code",
      "execution_count": null,
      "metadata": {
        "id": "cGKxzhqMXKTb"
      },
      "outputs": [],
      "source": [
        "# Targets (apples, oranges)\n",
        "targets = np.array([[56, 70], \n",
        "                    [81, 101], \n",
        "                    [119, 133], \n",
        "                    [22, 37], \n",
        "                    [103, 119]], dtype='float32')\n",
        "\n"
      ]
    },
    {
      "cell_type": "code",
      "execution_count": null,
      "metadata": {
        "colab": {
          "base_uri": "https://localhost:8080/"
        },
        "id": "QMkt6RgiXM4C",
        "outputId": "430895a8-685e-4cb8-c351-391af41fa292"
      },
      "outputs": [
        {
          "name": "stdout",
          "output_type": "stream",
          "text": [
            "inputs: [[ 73.  67.  43.]\n",
            " [ 91.  88.  64.]\n",
            " [ 87. 134.  58.]\n",
            " [102.  43.  37.]\n",
            " [ 69.  96.  70.]]\n",
            "targets: [[ 56.  70.]\n",
            " [ 81. 101.]\n",
            " [119. 133.]\n",
            " [ 22.  37.]\n",
            " [103. 119.]]\n"
          ]
        }
      ],
      "source": [
        "y = torch.from_numpy(targets)\n",
        "x = torch.from_numpy(inputs)\n",
        "print(\"inputs:\", inputs)\n",
        "print(\"targets:\", targets)"
      ]
    },
    {
      "cell_type": "code",
      "execution_count": null,
      "metadata": {
        "colab": {
          "base_uri": "https://localhost:8080/"
        },
        "id": "4s_AJQ2IX7o0",
        "outputId": "e3661882-ea39-47ea-ce81-faa0e5e52956"
      },
      "outputs": [
        {
          "name": "stdout",
          "output_type": "stream",
          "text": [
            "weights w:  tensor([[ 1.8842,  0.6396,  0.1245],\n",
            "        [ 0.4543, -0.1152, -1.5338]], requires_grad=True)\n",
            "bias b:  tensor([-0.4687,  0.1853], requires_grad=True)\n"
          ]
        }
      ],
      "source": [
        "#Initilizing the weights\n",
        "w = torch.randn(2, 3, requires_grad=True)\n",
        "b = torch.randn(2, requires_grad=True)\n",
        "print(\"weights w: \", w)\n",
        "print(\"bias b: \",b)"
      ]
    },
    {
      "cell_type": "code",
      "execution_count": null,
      "metadata": {
        "id": "wUQKBmtkYdOn"
      },
      "outputs": [],
      "source": [
        "#Defining the model\n",
        "def model(inputs):\n",
        "  model = inputs @ w.t() + b\n",
        "  return model"
      ]
    },
    {
      "cell_type": "code",
      "execution_count": null,
      "metadata": {
        "id": "X7tNVmZZZAif"
      },
      "outputs": [],
      "source": [
        "\n",
        "pred = model(x)"
      ]
    },
    {
      "cell_type": "code",
      "execution_count": null,
      "metadata": {
        "id": "pWZk0KdYXk4y"
      },
      "outputs": [],
      "source": [
        "\n",
        "#Definging the mean square error\n",
        "def mse(t1,t2):\n",
        "  diff = t1 - t2 \n",
        "  return torch.sum(diff * diff) / diff.numel()"
      ]
    },
    {
      "cell_type": "code",
      "execution_count": null,
      "metadata": {
        "colab": {
          "base_uri": "https://localhost:8080/"
        },
        "id": "XO1wxIG0aU-C",
        "outputId": "ffd84b09-017d-4a83-8863-55fd0684be6f"
      },
      "outputs": [
        {
          "name": "stdout",
          "output_type": "stream",
          "text": [
            "loss:  tensor(12688.3506, grad_fn=<DivBackward0>)\n"
          ]
        }
      ],
      "source": [
        "#Computing the loss \n",
        "loss = mse(pred, y)\n",
        "print(\"loss: \", loss)"
      ]
    },
    {
      "cell_type": "code",
      "execution_count": null,
      "metadata": {
        "id": "qG8r2lFjbLNJ"
      },
      "outputs": [],
      "source": [
        "with torch.no_grad():\n",
        "    w -= w.grad * 1e-5\n",
        "    b -= b.grad * 1e-5"
      ]
    },
    {
      "cell_type": "code",
      "execution_count": null,
      "metadata": {
        "id": "A0iZRSfIjqRt"
      },
      "outputs": [],
      "source": [
        "#Compute the gradients\n",
        "loss.backward()\n",
        "w.grad\n",
        "print(w.grad)"
      ]
    },
    {
      "cell_type": "code",
      "execution_count": null,
      "metadata": {
        "colab": {
          "base_uri": "https://localhost:8080/"
        },
        "id": "lnIHOAU7hNLa",
        "outputId": "542b6f31-4745-46f0-f106-6781e8fb7484"
      },
      "outputs": [
        {
          "name": "stdout",
          "output_type": "stream",
          "text": [
            "tensor([[185.2822, -40.3220],\n",
            "        [235.2436, -66.7736],\n",
            "        [256.3803, -64.6897],\n",
            "        [223.8258, -15.1773],\n",
            "        [199.6559, -86.8939]], grad_fn=<AddBackward0>)\n"
          ]
        }
      ],
      "source": [
        "#First step is to predict the output\n",
        "pred = model(x)\n",
        "print(pred)"
      ]
    },
    {
      "cell_type": "code",
      "execution_count": null,
      "metadata": {
        "colab": {
          "base_uri": "https://localhost:8080/"
        },
        "id": "g9XkzbbXlkGF",
        "outputId": "448bbde7-4b83-407e-aaa3-c53a269e0499"
      },
      "outputs": [
        {
          "name": "stdout",
          "output_type": "stream",
          "text": [
            "tensor(23396.9199, grad_fn=<DivBackward0>)\n"
          ]
        }
      ],
      "source": [
        "#Second step is to compute the loss\n",
        "loss = mse(pred, y)\n",
        "print(loss)"
      ]
    },
    {
      "cell_type": "code",
      "execution_count": null,
      "metadata": {
        "id": "5B5nOxHZl87U"
      },
      "outputs": [],
      "source": [
        "#Third step is to compute the gradient\n",
        "loss.backward()\n"
      ]
    },
    {
      "cell_type": "code",
      "execution_count": null,
      "metadata": {
        "colab": {
          "base_uri": "https://localhost:8080/"
        },
        "id": "8bDcAPUsmK3n",
        "outputId": "3f51ffc5-bab8-4999-c41f-828dc25b98fd"
      },
      "outputs": [
        {
          "name": "stdout",
          "output_type": "stream",
          "text": [
            "w: tensor([[ 1.8716,  0.6279,  0.1170],\n",
            "        [ 0.4664, -0.1011, -1.5251]], requires_grad=True)\n",
            "b: tensor([-0.4688,  0.1854], requires_grad=True)\n"
          ]
        }
      ],
      "source": [
        "#Forth step is to adjust the weights to minimize the loss\n",
        "with torch.no_grad():\n",
        "  w -= w.grad * 1e-6\n",
        "  b -= b.grad * 1e-6\n",
        "  w.grad.zero_()\n",
        "  b.grad.zero_()\n",
        "  print(\"w:\", w)\n",
        "  print(\"b:\", b) "
      ]
    },
    {
      "cell_type": "code",
      "execution_count": null,
      "metadata": {
        "colab": {
          "base_uri": "https://localhost:8080/"
        },
        "id": "sE0f5vyGnAo7",
        "outputId": "9c46e31a-6bfa-4423-e906-127a251f6ea3"
      },
      "outputs": [
        {
          "name": "stdout",
          "output_type": "stream",
          "text": [
            "tensor(22633.7012, grad_fn=<DivBackward0>)\n"
          ]
        }
      ],
      "source": [
        "#Create the loss\n",
        "preds =  model(x)\n",
        "loss = mse(preds, y)\n",
        "print(loss)"
      ]
    },
    {
      "cell_type": "code",
      "execution_count": null,
      "metadata": {
        "id": "GTo2zHYKsHiv"
      },
      "outputs": [],
      "source": [
        "#Train the model for 100 epochs\n",
        "for i in range(3000):\n",
        "  preds = model(x)\n",
        "  loss = mse(preds, y)\n",
        "  loss.backward()\n",
        "  with torch.no_grad():\n",
        "    w -= w.grad * 1e-5\n",
        "    b -= b.grad * 1e-5\n",
        "    w.grad.zero_()\n",
        "    b.grad.zero_()"
      ]
    },
    {
      "cell_type": "code",
      "execution_count": null,
      "metadata": {
        "id": "W3eRJE2vtAVy"
      },
      "outputs": [],
      "source": [
        "preds = model(x)\n",
        "loss = mse(preds, y)"
      ]
    },
    {
      "cell_type": "code",
      "execution_count": null,
      "metadata": {
        "colab": {
          "base_uri": "https://localhost:8080/"
        },
        "id": "BIQQSjAPtgZN",
        "outputId": "f93016fb-126e-4c5e-de75-87b63f0aadd3"
      },
      "outputs": [
        {
          "data": {
            "text/plain": [
              "tensor(0.5143, grad_fn=<DivBackward0>)"
            ]
          },
          "execution_count": 35,
          "metadata": {},
          "output_type": "execute_result"
        }
      ],
      "source": [
        "loss"
      ]
    },
    {
      "cell_type": "code",
      "execution_count": null,
      "metadata": {
        "colab": {
          "base_uri": "https://localhost:8080/"
        },
        "id": "lpSNCJO2thoe",
        "outputId": "b19b98e8-84bd-49a7-f562-86af38efe0c7"
      },
      "outputs": [
        {
          "data": {
            "text/plain": [
              "tensor([[ 57.0862,  70.3461],\n",
              "        [ 82.2401, 100.6110],\n",
              "        [118.7428, 133.0342],\n",
              "        [ 21.1020,  37.0339],\n",
              "        [101.8709, 119.0622]], grad_fn=<AddBackward0>)"
            ]
          },
          "execution_count": 36,
          "metadata": {},
          "output_type": "execute_result"
        }
      ],
      "source": [
        "preds"
      ]
    },
    {
      "cell_type": "code",
      "execution_count": null,
      "metadata": {
        "colab": {
          "base_uri": "https://localhost:8080/"
        },
        "id": "po2rz4Jot1ns",
        "outputId": "4344bd60-5869-47c0-c5b3-d65b0472456b"
      },
      "outputs": [
        {
          "data": {
            "text/plain": [
              "tensor([[ 56.,  70.],\n",
              "        [ 81., 101.],\n",
              "        [119., 133.],\n",
              "        [ 22.,  37.],\n",
              "        [103., 119.]])"
            ]
          },
          "execution_count": 37,
          "metadata": {},
          "output_type": "execute_result"
        }
      ],
      "source": [
        "y"
      ]
    },
    {
      "cell_type": "code",
      "execution_count": null,
      "metadata": {
        "id": "JR3BDLmTt3YG"
      },
      "outputs": [],
      "source": [
        ""
      ]
    },
    {
      "cell_type": "markdown",
      "metadata": {
        "id": "RU68u4L1vXRR"
      },
      "source": [
        "#### Linear Regression using PyTorch"
      ]
    },
    {
      "cell_type": "code",
      "execution_count": null,
      "metadata": {
        "id": "lYpU93envfbP"
      },
      "outputs": [],
      "source": [
        "import torch.nn as nn"
      ]
    },
    {
      "cell_type": "code",
      "execution_count": null,
      "metadata": {
        "id": "ArAJdv-Lvk1i"
      },
      "outputs": [],
      "source": [
        "#Input (temp, rainfall, humidity)\n",
        "# Input (temp, rainfall, humidity)\n",
        "inputs = np.array([[73, 67, 43], \n",
        "                   [91, 88, 64], \n",
        "                   [87, 134, 58], \n",
        "                   [102, 43, 37], \n",
        "                   [69, 96, 70], \n",
        "                   [74, 66, 43], \n",
        "                   [91, 87, 65], \n",
        "                   [88, 134, 59], \n",
        "                   [101, 44, 37], \n",
        "                   [68, 96, 71], \n",
        "                   [73, 66, 44], \n",
        "                   [92, 87, 64], \n",
        "                   [87, 135, 57], \n",
        "                   [103, 43, 36], \n",
        "                   [68, 97, 70]], \n",
        "                  dtype='float32')\n",
        "\n",
        "# Targets (apples, oranges)\n",
        "targets = np.array([[56, 70], \n",
        "                    [81, 101], \n",
        "                    [119, 133], \n",
        "                    [22, 37], \n",
        "                    [103, 119],\n",
        "                    [57, 69], \n",
        "                    [80, 102], \n",
        "                    [118, 132], \n",
        "                    [21, 38], \n",
        "                    [104, 118], \n",
        "                    [57, 69], \n",
        "                    [82, 100], \n",
        "                    [118, 134], \n",
        "                    [20, 38], \n",
        "                    [102, 120]], \n",
        "                   dtype='float32')\n",
        "inputs = torch.from_numpy(inputs)\n",
        "targets = torch.from_numpy(targets)"
      ]
    },
    {
      "cell_type": "code",
      "execution_count": null,
      "metadata": {
        "id": "JfRK9pfqv96_"
      },
      "outputs": [],
      "source": [
        "from torch.utils.data import TensorDataset"
      ]
    },
    {
      "cell_type": "code",
      "execution_count": null,
      "metadata": {
        "colab": {
          "base_uri": "https://localhost:8080/"
        },
        "id": "hEzUjOPWbF3a",
        "outputId": "1529c3d2-1684-4da4-a6e2-6ebb49c6f74d"
      },
      "outputs": [
        {
          "data": {
            "text/plain": [
              "<torch.utils.data.dataset.TensorDataset at 0x7f7faa021290>"
            ]
          },
          "execution_count": 95,
          "metadata": {},
          "output_type": "execute_result"
        }
      ],
      "source": [
        "\n",
        "train_ds = TensorDataset(inputs, targets)\n",
        "train_ds"
      ]
    },
    {
      "cell_type": "code",
      "execution_count": null,
      "metadata": {
        "id": "rAtABdfjbRr2"
      },
      "outputs": [],
      "source": [
        "from torch.utils.data import DataLoader"
      ]
    },
    {
      "cell_type": "code",
      "execution_count": null,
      "metadata": {
        "id": "I7xMLUaVcIF-"
      },
      "outputs": [],
      "source": [
        "batch_size = 5\n",
        "train_dl = DataLoader(train_ds, batch_size, shuffle=True)"
      ]
    },
    {
      "cell_type": "code",
      "execution_count": null,
      "metadata": {
        "colab": {
          "base_uri": "https://localhost:8080/"
        },
        "id": "TRIPXr1FcXi9",
        "outputId": "33005e07-6a28-441f-d71e-92bfefa98ed5"
      },
      "outputs": [
        {
          "name": "stdout",
          "output_type": "stream",
          "text": [
            "tensor([[ 73.,  67.,  43.],\n",
            "        [102.,  43.,  37.],\n",
            "        [ 68.,  96.,  71.],\n",
            "        [ 87., 134.,  58.],\n",
            "        [ 68.,  97.,  70.]])\n",
            "tensor([[ 56.,  70.],\n",
            "        [ 22.,  37.],\n",
            "        [104., 118.],\n",
            "        [119., 133.],\n",
            "        [102., 120.]])\n"
          ]
        }
      ],
      "source": [
        "for xb, yb in train_dl:\n",
        "  print(xb)\n",
        "  print(yb)\n",
        "  break"
      ]
    },
    {
      "cell_type": "code",
      "execution_count": null,
      "metadata": {
        "colab": {
          "base_uri": "https://localhost:8080/"
        },
        "id": "Df0Udy_tcvnn",
        "outputId": "4439e9eb-6107-4c2e-9d88-98a1d0731c85"
      },
      "outputs": [
        {
          "name": "stdout",
          "output_type": "stream",
          "text": [
            "tensor([[ 73.,  67.,  43.],\n",
            "        [102.,  43.,  37.],\n",
            "        [ 68.,  96.,  71.],\n",
            "        [ 87., 134.,  58.],\n",
            "        [ 68.,  97.,  70.]])\n",
            "tensor([[ 56.,  70.],\n",
            "        [ 22.,  37.],\n",
            "        [104., 118.],\n",
            "        [119., 133.],\n",
            "        [102., 120.]])\n"
          ]
        }
      ],
      "source": [
        "print(xb)\n",
        "print(yb)"
      ]
    },
    {
      "cell_type": "code",
      "execution_count": null,
      "metadata": {
        "colab": {
          "base_uri": "https://localhost:8080/"
        },
        "id": "bogmk2FBe97n",
        "outputId": "28ef21cb-980a-4ff3-90cd-261cc2138c60"
      },
      "outputs": [
        {
          "name": "stdout",
          "output_type": "stream",
          "text": [
            "Parameter containing:\n",
            "tensor([[ 0.2163, -0.1726, -0.5025],\n",
            "        [ 0.2681,  0.2311, -0.1461]], requires_grad=True)\n",
            "Parameter containing:\n",
            "tensor([-0.4835, -0.0126], requires_grad=True)\n"
          ]
        }
      ],
      "source": [
        " #Define a model\n",
        " model = nn.Linear(3,2)\n",
        " print(model.weight)\n",
        " print(model.bias)"
      ]
    },
    {
      "cell_type": "code",
      "execution_count": null,
      "metadata": {
        "colab": {
          "base_uri": "https://localhost:8080/"
        },
        "id": "3mDeKfrJiYFn",
        "outputId": "3cc74140-fb45-40d7-cd08-d5041fb71384"
      },
      "outputs": [
        {
          "data": {
            "text/plain": [
              "[Parameter containing:\n",
              " tensor([[ 0.2163, -0.1726, -0.5025],\n",
              "         [ 0.2681,  0.2311, -0.1461]], requires_grad=True),\n",
              " Parameter containing:\n",
              " tensor([-0.4835, -0.0126], requires_grad=True)]"
            ]
          },
          "execution_count": 101,
          "metadata": {},
          "output_type": "execute_result"
        }
      ],
      "source": [
        "list(model.parameters())"
      ]
    },
    {
      "cell_type": "code",
      "execution_count": null,
      "metadata": {
        "id": "tb5ZfRrCigp-"
      },
      "outputs": [],
      "source": [
        "#Generate prediction\n",
        "preds = model(inputs)"
      ]
    },
    {
      "cell_type": "code",
      "execution_count": null,
      "metadata": {
        "colab": {
          "base_uri": "https://localhost:8080/"
        },
        "id": "yh7q3Y-TizA1",
        "outputId": "f1a522a5-01b7-4a9f-f5e5-b71938de3ece"
      },
      "outputs": [
        {
          "data": {
            "text/plain": [
              "tensor([[-17.8637,  28.7593],\n",
              "        [-28.1467,  35.3702],\n",
              "        [-33.9378,  45.8035],\n",
              "        [ -4.4329,  31.8646],\n",
              "        [-37.3014,  30.4443],\n",
              "        [-17.4748,  28.7963],\n",
              "        [-28.4765,  34.9930],\n",
              "        [-34.2240,  45.9255],\n",
              "        [ -4.8219,  31.8276],\n",
              "        [-38.0201,  30.0302],\n",
              "        [-18.1936,  28.3822],\n",
              "        [-27.7578,  35.4072],\n",
              "        [-33.6080,  46.1806],\n",
              "        [ -3.7142,  32.2788],\n",
              "        [-37.6903,  30.4073]], grad_fn=<AddmmBackward0>)"
            ]
          },
          "execution_count": 103,
          "metadata": {},
          "output_type": "execute_result"
        }
      ],
      "source": [
        "preds"
      ]
    },
    {
      "cell_type": "code",
      "execution_count": null,
      "metadata": {
        "id": "tNmbqoiliz6x"
      },
      "outputs": [],
      "source": [
        "#Loss Funtioin"
      ]
    },
    {
      "cell_type": "code",
      "execution_count": null,
      "metadata": {
        "id": "kEw3WM88jmro"
      },
      "outputs": [],
      "source": [
        "#Import nn.Funtional\n",
        "import torch.nn.functional as F"
      ]
    },
    {
      "cell_type": "code",
      "execution_count": null,
      "metadata": {
        "id": "ft51NZqtjwvT"
      },
      "outputs": [],
      "source": [
        "loss_fn = F.mse_loss\n",
        "loss = loss_fn(model(inputs), targets)"
      ]
    },
    {
      "cell_type": "code",
      "execution_count": null,
      "metadata": {
        "id": "8Co5OzR9j7AZ"
      },
      "outputs": [],
      "source": [
        "#Define the optimizer\n",
        "opt = torch.optim.SGD(model.parameters(), lr=1e-6)"
      ]
    },
    {
      "cell_type": "markdown",
      "metadata": {
        "id": "c-VVv9fVkteH"
      },
      "source": [
        "#Train the model"
      ]
    },
    {
      "cell_type": "code",
      "execution_count": null,
      "metadata": {
        "colab": {
          "background_save": true
        },
        "id": "J4Ae3NZRkqAg"
      },
      "outputs": [],
      "source": [
        "#Utility funtion to traint the model\n",
        "def fit(num_epoch, model, loss_fn, opt, train_dl):\n",
        "  for epoch in range(num_epoch):\n",
        "    for xb, yb in train_dl:\n",
        "      pred = model(xb)\n",
        "      loss = loss_fn(pred, yb)\n",
        "      loss.backward()\n",
        "      opt.step()\n",
        "      opt.zero_grad()\n",
        "\n",
        "    if (epoch + 1) % 10 == 0:\n",
        "      print(\"Epoch [{}/{}], Loss {:.4f}\".format(epoch+1, num_epoch, loss.item()))\n"
      ]
    },
    {
      "cell_type": "code",
      "execution_count": null,
      "metadata": {
        "colab": {
          "base_uri": "https://localhost:8080/"
        },
        "id": "SohwhYuOm2Pt",
        "outputId": "f1a470d4-3232-4cd0-e471-d83300f501ff"
      },
      "outputs": [
        {
          "name": "stdout",
          "output_type": "stream",
          "text": [
            "Epoch [10/500], Loss 2.7988\n",
            "Epoch [20/500], Loss 3.9523\n",
            "Epoch [30/500], Loss 1.4115\n",
            "Epoch [40/500], Loss 2.0230\n",
            "Epoch [50/500], Loss 1.9581\n",
            "Epoch [60/500], Loss 2.1124\n",
            "Epoch [70/500], Loss 1.3041\n",
            "Epoch [80/500], Loss 1.7977\n",
            "Epoch [90/500], Loss 3.7035\n",
            "Epoch [100/500], Loss 1.8377\n",
            "Epoch [110/500], Loss 2.6088\n",
            "Epoch [120/500], Loss 4.8728\n",
            "Epoch [130/500], Loss 4.2444\n",
            "Epoch [140/500], Loss 2.1049\n",
            "Epoch [150/500], Loss 2.1857\n",
            "Epoch [160/500], Loss 2.3819\n",
            "Epoch [170/500], Loss 0.9827\n",
            "Epoch [180/500], Loss 4.9523\n",
            "Epoch [190/500], Loss 2.4862\n",
            "Epoch [200/500], Loss 3.4070\n",
            "Epoch [210/500], Loss 3.9900\n",
            "Epoch [220/500], Loss 5.5963\n",
            "Epoch [230/500], Loss 3.9120\n",
            "Epoch [240/500], Loss 1.3716\n",
            "Epoch [250/500], Loss 1.0176\n",
            "Epoch [260/500], Loss 1.6248\n",
            "Epoch [270/500], Loss 3.8638\n",
            "Epoch [280/500], Loss 1.3518\n",
            "Epoch [290/500], Loss 1.4967\n",
            "Epoch [300/500], Loss 1.9119\n",
            "Epoch [310/500], Loss 4.0930\n",
            "Epoch [320/500], Loss 2.3948\n",
            "Epoch [330/500], Loss 2.7619\n",
            "Epoch [340/500], Loss 4.4391\n",
            "Epoch [350/500], Loss 1.2962\n",
            "Epoch [360/500], Loss 0.8649\n",
            "Epoch [370/500], Loss 1.7869\n",
            "Epoch [380/500], Loss 1.0110\n",
            "Epoch [390/500], Loss 1.6998\n",
            "Epoch [400/500], Loss 1.5252\n",
            "Epoch [410/500], Loss 2.3562\n",
            "Epoch [420/500], Loss 5.8950\n",
            "Epoch [430/500], Loss 5.5682\n",
            "Epoch [440/500], Loss 1.6255\n",
            "Epoch [450/500], Loss 1.6471\n",
            "Epoch [460/500], Loss 3.2324\n",
            "Epoch [470/500], Loss 3.0786\n",
            "Epoch [480/500], Loss 4.6851\n",
            "Epoch [490/500], Loss 5.1876\n",
            "Epoch [500/500], Loss 9.2118\n"
          ]
        }
      ],
      "source": [
        "fit(500, model, loss_fn, opt, train_dl)"
      ]
    },
    {
      "cell_type": "code",
      "execution_count": null,
      "metadata": {
        "id": "wnD5dX_AnCjq"
      },
      "outputs": [],
      "source": [
        ""
      ]
    }
  ],
  "metadata": {
    "colab": {
      "collapsed_sections": [],
      "name": "Zero to GAN1.ipynb",
      "provenance": []
    },
    "kernelspec": {
      "display_name": "Python 3",
      "name": "python3"
    },
    "language_info": {
      "name": "python"
    }
  },
  "nbformat": 4,
  "nbformat_minor": 0
}